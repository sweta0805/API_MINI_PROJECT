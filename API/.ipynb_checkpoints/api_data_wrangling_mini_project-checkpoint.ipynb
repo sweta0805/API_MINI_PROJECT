{
 "cells": [
  {
   "cell_type": "markdown",
   "metadata": {},
   "source": [
    "This exercise will require you to pull some data from the Qunadl API. Qaundl is currently the most widely used aggregator of financial market data."
   ]
  },
  {
   "cell_type": "markdown",
   "metadata": {},
   "source": [
    "As a first step, you will need to register a free account on the http://www.quandl.com website."
   ]
  },
  {
   "cell_type": "markdown",
   "metadata": {},
   "source": [
    "After you register, you will be provided with a unique API key, that you should store:"
   ]
  },
  {
   "cell_type": "code",
   "execution_count": 1,
   "metadata": {},
   "outputs": [],
   "source": [
    "# Store the API key as a string - according to PEP8, constants are always named in all upper case\n",
    "API_KEY = 'gpqm37hcQTwskAZkKFjm'"
   ]
  },
  {
   "cell_type": "markdown",
   "metadata": {},
   "source": [
    "Qaundl has a large number of data sources, but, unfortunately, most of them require a Premium subscription. Still, there are also a good number of free datasets."
   ]
  },
  {
   "cell_type": "markdown",
   "metadata": {},
   "source": [
    "For this mini project, we will focus on equities data from the Frankfurt Stock Exhange (FSE), which is available for free. We'll try and analyze the stock prices of a company called Carl Zeiss Meditec, which manufactures tools for eye examinations, as well as medical lasers for laser eye surgery: https://www.zeiss.com/meditec/int/home.html. The company is listed under the stock ticker AFX_X."
   ]
  },
  {
   "cell_type": "markdown",
   "metadata": {},
   "source": [
    "You can find the detailed Quandl API instructions here: https://docs.quandl.com/docs/time-series"
   ]
  },
  {
   "cell_type": "markdown",
   "metadata": {},
   "source": [
    "While there is a dedicated Python package for connecting to the Quandl API, we would prefer that you use the *requests* package, which can be easily downloaded using *pip* or *conda*. You can find the documentation for the package here: http://docs.python-requests.org/en/master/ "
   ]
  },
  {
   "cell_type": "markdown",
   "metadata": {},
   "source": [
    "Finally, apart from the *requests* package, you are encouraged to not use any third party Python packages, such as *pandas*, and instead focus on what's available in the Python Standard Library (the *collections* module might come in handy: https://pymotw.com/3/collections/ ).\n",
    "Also, since you won't have access to DataFrames, you are encouraged to us Python's native data structures - preferably dictionaries, though some questions can also be answered using lists.\n",
    "You can read more on these data structures here: https://docs.python.org/3/tutorial/datastructures.html"
   ]
  },
  {
   "cell_type": "markdown",
   "metadata": {},
   "source": [
    "Keep in mind that the JSON responses you will be getting from the API map almost one-to-one to Python's dictionaries. Unfortunately, they can be very nested, so make sure you read up on indexing dictionaries in the documentation provided above."
   ]
  },
  {
   "cell_type": "code",
   "execution_count": 2,
   "metadata": {},
   "outputs": [],
   "source": [
    "# First, import the relevant modules\n",
    "import requests\n",
    "from collections import OrderedDict"
   ]
  },
  {
   "cell_type": "code",
   "execution_count": 3,
   "metadata": {},
   "outputs": [],
   "source": [
    "# Now, call the Quandl API and pull out a small sample of the data (only one day) to get a glimpse\n",
    "# into the JSON structure that will be returned\n",
    "\n",
    "url = \"https://www.quandl.com/api/v3/datasets/FSE/AFX_X.json?start_date=2020-10-01&end_date=2020-10-07api_key=YOURAPIKEY\"\n",
    "url = url.replace('YOURAPIKEY',API_KEY)\n",
    "# send the request and get in into the request object\n",
    "r = requests.get(url)\n",
    "# transform the output to the json format\n",
    "json_afx = r.json()"
   ]
  },
  {
   "cell_type": "code",
   "execution_count": 4,
   "metadata": {},
   "outputs": [
    {
     "name": "stdout",
     "output_type": "stream",
     "text": [
      "dataset:\n",
      "id: 10095370\n",
      "dataset_code: AFX_X\n",
      "database_code: FSE\n",
      "name: Carl Zeiss Meditec (AFX_X)\n",
      "description: Stock Prices for Carl Zeiss Meditec (2020-10-02) from the Frankfurt Stock Exchange.<br><br>Trading System: Xetra<br><br>ISIN: DE0005313704\n",
      "refreshed_at: 2020-10-16T22:16:22.190Z\n",
      "newest_available_date: 2020-10-16\n",
      "oldest_available_date: 2000-06-07\n",
      "column_names: ['Date', 'Open', 'High', 'Low', 'Close', 'Change', 'Traded Volume', 'Turnover', 'Last Price of the Day', 'Daily Traded Units', 'Daily Turnover']\n",
      "frequency: daily\n",
      "type: Time Series\n",
      "premium: False\n",
      "limit: None\n",
      "transform: None\n",
      "column_index: None\n",
      "start_date: 2020-10-01\n",
      "end_date: 2020-10-07\n",
      "data: [['2020-10-07', 112.1, 112.7, 110.7, 112.3, None, 147019.0, 16467208.3, None, None, None], ['2020-10-06', 110.5, 112.0, 110.2, 111.6, None, 143188.0, 15932748.4, None, None, None], ['2020-10-05', 110.0, 111.2, 109.6, 110.3, None, 87815.0, 9697218.6, None, None, None], ['2020-10-02', 108.0, 109.7, 107.3, 109.3, None, 117697.0, 12815711.5, None, None, None], ['2020-10-01', 108.2, 109.8, 107.8, 109.3, None, 121354.0, 13255001.0, None, None, None]]\n",
      "collapse: None\n",
      "order: None\n",
      "database_id: 6129\n"
     ]
    }
   ],
   "source": [
    "# Inspect the JSON structure of the object you created, and take note of how nested it is,\n",
    "# as well as the overall structure\n",
    "# Print each key-value pair in the data\n",
    "for key in json_afx.keys():\n",
    "    print(key + \":\")\n",
    "    \n",
    "#print(\" \")\n",
    "for key in json_afx['dataset'].keys():\n",
    "    print(key + \":\",json_afx['dataset'][key])"
   ]
  },
  {
   "cell_type": "code",
   "execution_count": 5,
   "metadata": {},
   "outputs": [
    {
     "name": "stdout",
     "output_type": "stream",
     "text": [
      "['Date', 'Open', 'High', 'Low', 'Close', 'Change', 'Traded Volume', 'Turnover', 'Last Price of the Day', 'Daily Traded Units', 'Daily Turnover']\n",
      "['2020-10-07', 112.1, 112.7, 110.7, 112.3, None, 147019.0, 16467208.3, None, None, None]\n",
      "['2020-10-06', 110.5, 112.0, 110.2, 111.6, None, 143188.0, 15932748.4, None, None, None]\n",
      "['2020-10-05', 110.0, 111.2, 109.6, 110.3, None, 87815.0, 9697218.6, None, None, None]\n",
      "['2020-10-02', 108.0, 109.7, 107.3, 109.3, None, 117697.0, 12815711.5, None, None, None]\n",
      "['2020-10-01', 108.2, 109.8, 107.8, 109.3, None, 121354.0, 13255001.0, None, None, None]\n"
     ]
    }
   ],
   "source": [
    "# Let's take only 'column_names' and 'data' keys and print the corresponding values:\n",
    "# which are a list of strings for 'column_names' and a list of lists for 'data'\n",
    "#print(\" \")\n",
    "print(json_afx['dataset']['column_names'])\n",
    "\n",
    "for l in json_afx['dataset']['data']:\n",
    "    print(l)"
   ]
  },
  {
   "cell_type": "markdown",
   "metadata": {},
   "source": [
    "These are your tasks for this mini project:\n",
    "\n",
    "1. Collect data from the Franfurt Stock Exchange, for the ticker AFX_X, for the whole year 2017 (keep in mind that the date format is YYYY-MM-DD).\n",
    "2. Convert the returned JSON object into a Python dictionary.\n",
    "3. Calculate what the highest and lowest opening prices were for the stock in this period.\n",
    "4. What was the largest change in any one day (based on High and Low price)?\n",
    "5. What was the largest change between any two days (based on Closing Price)?\n",
    "6. What was the average daily trading volume during this year?\n",
    "7. (Optional) What was the median trading volume during this year. (Note: you may need to implement your own function for calculating the median.)"
   ]
  },
  {
   "cell_type": "markdown",
   "metadata": {
    "collapsed": true
   },
   "source": [
    "Task 1: Collect data from the Franfurt Stock Exchange, for the ticker AFX_X, for the whole year 2017 (keep in mind that the date format is YYYY-MM-DD)."
   ]
  },
  {
   "cell_type": "code",
   "execution_count": 6,
   "metadata": {},
   "outputs": [
    {
     "name": "stdout",
     "output_type": "stream",
     "text": [
      "['2017-01-02', 34.99, 35.94, 34.99, 35.8, None, 44700.0, 1590561.0, None, None, None]\n",
      "['2017-12-29', 51.76, 51.94, 51.45, 51.76, None, 34640.0, 1792304.0, None, None, None]\n"
     ]
    }
   ],
   "source": [
    "#build query to Quandl API\n",
    "# from 2017-01-01 to 2017-12-31 in ascending order\n",
    "url = 'https://www.quandl.com/api/v3/datasets/FSE/AFX_X.json?start_date=2017-01-01&end_date=2017-12-31&order=asc&api_key=YOURAPIKEY'\n",
    "url = url.replace('YOURAPIKEY',API_KEY)\n",
    "\n",
    "# send the request and transform the output to the json format\n",
    "y17 = requests.get(url).json()\n",
    "\n",
    "#check if data makes sense\n",
    "print(y17['dataset']['data'][0])\n",
    "print(y17['dataset']['data'][-1])"
   ]
  },
  {
   "cell_type": "markdown",
   "metadata": {},
   "source": [
    "Start date make sense because '2017-01-02' is Monday and end date '2017-01-29' is Friday"
   ]
  },
  {
   "cell_type": "markdown",
   "metadata": {},
   "source": [
    "Task 2: Convert the returned JSON object into a Python dictionary."
   ]
  },
  {
   "cell_type": "code",
   "execution_count": 7,
   "metadata": {},
   "outputs": [
    {
     "name": "stdout",
     "output_type": "stream",
     "text": [
      "2017-01-02 :  34.99 35.94 35.8\n",
      "2017-01-03 :  35.9 35.93 35.48\n",
      "2017-01-04 :  35.48 35.51 35.19\n",
      "2017-01-05 :  35.02 35.2 35.06\n",
      "2017-01-06 :  34.91 35.21 35.04\n",
      "2017-01-09 :  35.29 35.35 34.67\n",
      "2017-01-10 :  34.8 34.98 34.91\n",
      "2017-01-11 :  34.95 36.0 35.42\n",
      "2017-01-12 :  35.38 35.38 34.9\n",
      "2017-01-13 :  34.98 34.98 34.85\n",
      "2017-01-16 :  34.85 35.24 35.07\n",
      "2017-01-17 :  35.06 35.19 34.99\n",
      "2017-01-18 :  35.04 35.51 34.9\n",
      "2017-01-19 :  35.04 35.04 34.5\n",
      "2017-01-20 :  34.54 34.59 34.17\n",
      "2017-01-23 :  34.04 34.12 34.06\n",
      "2017-01-24 :  34.0 34.35 34.22\n",
      "2017-01-25 :  34.42 34.86 34.83\n",
      "2017-01-26 :  35.07 35.58 34.89\n",
      "2017-01-27 :  34.83 35.43 35.3\n",
      "2017-01-30 :  35.38 35.59 35.15\n",
      "2017-01-31 :  35.24 35.24 34.56\n",
      "2017-02-01 :  34.75 36.0 35.94\n",
      "2017-02-02 :  35.95 36.2 36.07\n",
      "2017-02-03 :  36.02 36.2 36.1\n",
      "2017-02-06 :  36.06 36.15 35.64\n",
      "2017-02-07 :  35.56 36.05 35.89\n",
      "2017-02-08 :  35.98 36.14 36.05\n",
      "2017-02-09 :  36.2 36.25 36.25\n",
      "2017-02-10 :  36.65 37.5 37.06\n",
      "2017-02-13 :  37.37 39.36 38.53\n",
      "2017-02-14 :  38.81 38.86 38.37\n",
      "2017-02-15 :  38.5 38.93 38.72\n",
      "2017-02-16 :  38.8 39.2 38.71\n",
      "2017-02-17 :  38.8 39.03 39.02\n",
      "2017-02-20 :  39.25 39.25 38.98\n",
      "2017-02-21 :  38.85 39.57 39.45\n",
      "2017-02-22 :  39.6 39.75 39.7\n",
      "2017-02-23 :  39.72 39.98 39.79\n",
      "2017-02-24 :  39.77 40.14 39.74\n",
      "2017-02-27 :  39.75 40.64 40.39\n",
      "2017-02-28 :  40.38 40.95 40.84\n",
      "2017-03-01 :  41.19 41.57 41.2\n",
      "2017-03-02 :  41.38 41.39 41.17\n",
      "2017-03-03 :  41.12 41.22 41.18\n",
      "2017-03-06 :  41.25 41.4 41.4\n",
      "2017-03-07 :  41.5 41.8 41.42\n",
      "2017-03-08 :  41.13 41.71 41.68\n",
      "2017-03-09 :  41.61 41.61 41.4\n",
      "2017-03-10 :  41.53 41.53 41.4\n",
      "2017-03-13 :  41.4 41.46 41.3\n",
      "2017-03-14 :  41.2 41.5 41.3\n",
      "2017-03-15 :  41.4 41.5 41.25\n",
      "2017-03-16 :  41.4 41.57 41.46\n",
      "2017-03-17 :  41.47 41.59 41.34\n",
      "2017-03-20 :  41.26 42.17 41.97\n",
      "2017-03-21 :  41.8 41.83 40.98\n",
      "2017-03-22 :  38.25 39.02 38.94\n",
      "2017-03-23 :  39.01 39.25 38.96\n",
      "2017-03-24 :  38.94 39.02 38.94\n",
      "2017-03-27 :  38.73 39.1 38.85\n",
      "2017-03-28 :  38.95 39.35 39.22\n",
      "2017-03-29 :  39.39 40.01 40.01\n",
      "2017-03-30 :  40.02 40.14 39.75\n",
      "2017-03-31 :  39.77 40.07 39.98\n",
      "2017-04-03 :  40.15 40.15 39.64\n",
      "2017-04-04 :  39.5 40.88 40.81\n",
      "2017-04-05 :  41.1 41.34 41.1\n",
      "2017-04-06 :  40.96 41.25 41.05\n",
      "2017-04-07 :  40.9 41.42 41.42\n",
      "2017-04-10 :  41.46 41.68 41.68\n",
      "2017-04-11 :  41.62 42.03 41.75\n",
      "2017-04-12 :  42.02 42.45 42.2\n",
      "2017-04-13 :  42.06 42.48 42.2\n",
      "2017-04-14 :  None 42.48 42.2\n",
      "2017-04-17 :  None 42.48 42.2\n",
      "2017-04-18 :  42.24 42.4 42.0\n",
      "2017-04-19 :  41.94 42.61 42.61\n",
      "2017-04-20 :  42.5 42.64 41.93\n",
      "2017-04-21 :  41.97 42.14 41.32\n",
      "2017-04-24 :  42.01 42.02 41.81\n",
      "2017-04-25 :  41.93 42.18 41.89\n",
      "2017-04-26 :  41.88 41.94 41.5\n",
      "2017-04-27 :  41.51 42.24 42.16\n",
      "2017-04-28 :  42.17 42.25 41.72\n",
      "2017-05-01 :  None 42.245 41.72\n",
      "2017-05-02 :  41.89 42.23 42.15\n",
      "2017-05-03 :  42.2 42.29 41.9\n",
      "2017-05-04 :  41.86 42.5 42.5\n",
      "2017-05-05 :  42.52 42.91 42.75\n",
      "2017-05-08 :  43.0 43.0 42.24\n",
      "2017-05-09 :  41.83 43.55 43.3\n",
      "2017-05-10 :  43.5 43.6 43.28\n",
      "2017-05-11 :  43.4 46.06 45.0\n",
      "2017-05-12 :  45.18 45.18 44.99\n",
      "2017-05-15 :  45.09 45.78 45.14\n",
      "2017-05-16 :  45.15 45.36 45.31\n",
      "2017-05-17 :  45.06 45.34 44.19\n",
      "2017-05-18 :  44.0 44.3 43.98\n",
      "2017-05-19 :  43.74 44.12 44.12\n",
      "2017-05-22 :  44.16 44.22 43.84\n",
      "2017-05-23 :  43.67 44.13 43.9\n",
      "2017-05-24 :  43.92 44.67 44.53\n",
      "2017-05-25 :  44.8 44.87 44.78\n",
      "2017-05-26 :  44.8 45.36 45.3\n",
      "2017-05-29 :  45.61 45.61 45.32\n",
      "2017-05-30 :  45.05 46.02 46.02\n",
      "2017-05-31 :  45.22 46.26 45.86\n",
      "2017-06-01 :  46.12 46.52 46.52\n",
      "2017-06-02 :  46.8 46.99 46.99\n",
      "2017-06-06 :  47.12 47.45 47.43\n",
      "2017-06-07 :  47.01 47.43 47.43\n",
      "2017-06-08 :  47.8 47.8 46.27\n",
      "2017-06-09 :  46.77 47.44 47.44\n",
      "2017-06-12 :  47.31 47.43 46.31\n",
      "2017-06-13 :  46.5 46.51 46.32\n",
      "2017-06-14 :  46.52 46.86 46.33\n",
      "2017-06-15 :  46.34 46.34 45.67\n",
      "2017-06-16 :  45.66 46.8 46.63\n",
      "2017-06-19 :  46.9 46.9 46.64\n",
      "2017-06-20 :  46.48 47.43 47.37\n",
      "2017-06-21 :  47.46 47.48 46.99\n",
      "2017-06-22 :  47.03 47.4 47.29\n",
      "2017-06-23 :  47.29 47.4 46.99\n",
      "2017-06-26 :  46.95 47.63 47.21\n",
      "2017-06-27 :  47.23 47.33 46.83\n",
      "2017-06-28 :  46.68 46.68 45.68\n",
      "2017-06-29 :  45.73 45.81 45.2\n",
      "2017-06-30 :  45.01 45.74 45.44\n",
      "2017-07-03 :  45.29 45.83 45.75\n",
      "2017-07-04 :  45.83 45.83 44.8\n",
      "2017-07-05 :  44.67 45.36 45.19\n",
      "2017-07-06 :  45.5 45.5 44.62\n",
      "2017-07-07 :  44.79 44.79 44.53\n",
      "2017-07-10 :  44.64 45.18 44.7\n",
      "2017-07-11 :  44.94 44.94 44.2\n",
      "2017-07-12 :  44.29 45.05 44.95\n",
      "2017-07-13 :  44.67 45.18 44.95\n",
      "2017-07-14 :  45.07 45.56 45.53\n",
      "2017-07-17 :  45.6 46.23 45.6\n",
      "2017-07-18 :  45.5 45.55 45.0\n",
      "2017-07-19 :  45.06 45.72 45.57\n",
      "2017-07-20 :  45.74 45.96 45.66\n",
      "2017-07-21 :  45.57 45.88 45.44\n",
      "2017-07-24 :  45.31 45.31 44.61\n",
      "2017-07-25 :  44.7 45.04 44.82\n",
      "2017-07-26 :  44.91 45.33 45.16\n",
      "2017-07-27 :  45.16 45.45 45.25\n",
      "2017-07-28 :  45.26 45.29 44.97\n",
      "2017-07-31 :  44.94 45.75 45.3\n",
      "2017-08-01 :  45.24 45.54 45.45\n",
      "2017-08-02 :  45.25 45.77 45.56\n",
      "2017-08-03 :  45.34 45.54 44.97\n",
      "2017-08-04 :  45.13 45.13 45.07\n",
      "2017-08-07 :  45.85 46.34 44.96\n",
      "2017-08-08 :  44.9 45.09 44.37\n",
      "2017-08-09 :  43.5 43.5 41.81\n",
      "2017-08-10 :  41.73 41.99 41.68\n",
      "2017-08-11 :  41.3 41.94 41.94\n",
      "2017-08-14 :  42.12 42.69 42.3\n",
      "2017-08-15 :  42.53 42.53 42.28\n",
      "2017-08-16 :  42.4 42.62 42.05\n",
      "2017-08-17 :  41.88 43.01 42.5\n",
      "2017-08-18 :  42.28 42.6 42.41\n",
      "2017-08-21 :  42.42 42.76 42.26\n",
      "2017-08-22 :  42.46 42.96 42.71\n",
      "2017-08-23 :  42.82 43.17 42.71\n",
      "2017-08-24 :  42.72 43.05 42.69\n",
      "2017-08-25 :  42.64 42.64 42.14\n",
      "2017-08-28 :  42.11 42.25 41.91\n",
      "2017-08-29 :  41.71 41.98 41.85\n",
      "2017-08-30 :  42.0 42.2 41.94\n",
      "2017-08-31 :  42.0 42.08 41.9\n",
      "2017-09-01 :  42.16 43.06 42.41\n",
      "2017-09-04 :  42.38 42.75 42.6\n",
      "2017-09-05 :  43.0 43.19 42.62\n",
      "2017-09-06 :  42.66 42.71 42.55\n",
      "2017-09-07 :  43.0 43.02 42.77\n",
      "2017-09-08 :  42.7 42.75 42.67\n",
      "2017-09-11 :  42.81 42.89 42.85\n",
      "2017-09-12 :  43.21 43.34 42.73\n",
      "2017-09-13 :  42.49 42.69 42.45\n",
      "2017-09-14 :  42.35 42.8 42.52\n",
      "2017-09-15 :  42.29 42.81 42.42\n",
      "2017-09-18 :  42.5 42.63 42.27\n",
      "2017-09-19 :  42.65 42.65 42.44\n",
      "2017-09-20 :  42.54 42.54 41.99\n",
      "2017-09-21 :  42.29 42.29 41.46\n",
      "2017-09-22 :  41.48 42.38 42.06\n",
      "2017-09-25 :  42.3 42.3 42.07\n",
      "2017-09-26 :  42.3 42.57 42.37\n",
      "2017-09-27 :  42.35 42.49 42.04\n",
      "2017-09-28 :  42.0 43.56 43.56\n",
      "2017-09-29 :  43.58 44.17 44.17\n",
      "2017-10-02 :  44.51 44.98 44.98\n",
      "2017-10-04 :  45.36 46.17 46.11\n",
      "2017-10-05 :  46.01 46.09 46.05\n",
      "2017-10-06 :  46.19 46.19 46.0\n",
      "2017-10-09 :  46.2 46.2 45.74\n",
      "2017-10-10 :  45.64 46.04 45.84\n",
      "2017-10-11 :  45.97 45.97 45.29\n",
      "2017-10-12 :  45.58 45.58 45.43\n",
      "2017-10-13 :  45.5 45.7 45.4\n",
      "2017-10-16 :  45.61 45.75 45.55\n",
      "2017-10-17 :  45.8 46.06 45.96\n",
      "2017-10-18 :  46.01 46.2 45.77\n",
      "2017-10-19 :  45.72 45.85 45.0\n",
      "2017-10-20 :  45.08 45.34 44.87\n",
      "2017-10-23 :  44.9 45.34 45.0\n",
      "2017-10-24 :  45.16 45.27 44.85\n",
      "2017-10-25 :  45.01 45.06 45.0\n",
      "2017-10-26 :  45.2 45.41 45.41\n",
      "2017-10-27 :  45.48 46.42 46.41\n",
      "2017-10-30 :  46.53 46.65 45.76\n",
      "2017-11-01 :  46.29 46.55 46.04\n",
      "2017-11-02 :  45.88 46.06 45.27\n",
      "2017-11-03 :  45.0 46.04 45.97\n",
      "2017-11-06 :  45.81 46.09 45.99\n",
      "2017-11-07 :  46.16 46.33 46.26\n",
      "2017-11-08 :  46.42 47.72 47.47\n",
      "2017-11-09 :  47.65 48.06 47.21\n",
      "2017-11-10 :  47.3 48.89 48.34\n",
      "2017-11-13 :  48.38 48.61 48.34\n",
      "2017-11-14 :  48.4 48.9 48.0\n",
      "2017-11-15 :  47.98 48.01 47.05\n",
      "2017-11-16 :  47.09 47.23 47.03\n",
      "2017-11-17 :  47.03 47.15 46.84\n",
      "2017-11-20 :  46.57 47.38 47.04\n",
      "2017-11-21 :  47.25 48.59 48.39\n",
      "2017-11-22 :  48.4 49.61 48.8\n",
      "2017-11-23 :  48.8 49.46 49.2\n",
      "2017-11-24 :  49.11 49.41 49.11\n",
      "2017-11-27 :  49.13 49.73 49.2\n",
      "2017-11-28 :  49.09 49.89 49.25\n",
      "2017-11-29 :  49.64 49.64 48.75\n",
      "2017-11-30 :  48.64 49.84 49.7\n",
      "2017-12-01 :  49.52 50.49 49.86\n",
      "2017-12-04 :  49.5 51.23 51.14\n",
      "2017-12-05 :  51.21 51.38 51.25\n",
      "2017-12-06 :  50.8 51.11 50.89\n",
      "2017-12-07 :  50.89 51.47 51.47\n",
      "2017-12-08 :  51.5 52.83 52.12\n",
      "2017-12-11 :  52.28 52.45 52.14\n",
      "2017-12-12 :  52.29 53.1 52.43\n",
      "2017-12-13 :  52.64 53.35 53.09\n",
      "2017-12-14 :  53.11 53.54 52.67\n",
      "2017-12-15 :  52.7 52.7 52.01\n",
      "2017-12-18 :  52.37 52.75 52.62\n",
      "2017-12-19 :  52.73 52.73 51.66\n",
      "2017-12-20 :  51.88 52.04 51.27\n",
      "2017-12-21 :  51.16 51.52 51.4\n",
      "2017-12-22 :  51.05 51.5 51.32\n",
      "2017-12-27 :  51.45 51.89 51.82\n",
      "2017-12-28 :  51.65 51.82 51.6\n",
      "2017-12-29 :  51.76 51.94 51.76\n"
     ]
    }
   ],
   "source": [
    "# we need to separate time from other variables in the data field\n",
    "data_time = [sublist[0] for sublist in y17['dataset']['data']]\n",
    "data_rest = [sublist[1:] for sublist in y17['dataset']['data']]\n",
    "\n",
    "names_rest = y17['dataset']['column_names'][1:]\n",
    "#\n",
    "#for each time entry zip names_rest with data_rest into a dict, then append to a list \n",
    "data_body = []\n",
    "for line in data_rest:\n",
    "    data_body_line = dict(zip(names_rest,line))\n",
    "    data_body.append(data_body_line)    \n",
    "\n",
    "# now zip the zipped dir into nested dir with main timestamp as a main key\n",
    "data = OrderedDict(zip(data_time,data_body))\n",
    "\n",
    "# check the output\n",
    "for key,value in data.items():\n",
    "    print(key,\": \",data[key]['Open'],data[key]['High'],data[key]['Close'])"
   ]
  },
  {
   "cell_type": "markdown",
   "metadata": {},
   "source": [
    "Task 3:"
   ]
  },
  {
   "cell_type": "code",
   "execution_count": 8,
   "metadata": {},
   "outputs": [
    {
     "name": "stdout",
     "output_type": "stream",
     "text": [
      "Highest opening price =  53.11\n",
      "Lowest  opening price =  34.0\n"
     ]
    }
   ],
   "source": [
    "l_open = [data[key]['Open'] for key in data if str(data[key]['Open']) != 'None']\n",
    "\n",
    "print(\"Highest opening price = \",max(l_open))\n",
    "print(\"Lowest  opening price = \",min(l_open))"
   ]
  },
  {
   "cell_type": "markdown",
   "metadata": {},
   "source": [
    "Task 4:"
   ]
  },
  {
   "cell_type": "code",
   "execution_count": 9,
   "metadata": {},
   "outputs": [
    {
     "name": "stdout",
     "output_type": "stream",
     "text": [
      "Largest daily change =  2.8100000000000023\n"
     ]
    }
   ],
   "source": [
    "l_change = [data[key]['High'] - data[key]['Low'] for key in data]\n",
    "\n",
    "print(\"Largest daily change = \",max(l_change))"
   ]
  },
  {
   "cell_type": "markdown",
   "metadata": {},
   "source": [
    "Task 5:"
   ]
  },
  {
   "cell_type": "code",
   "execution_count": 10,
   "metadata": {},
   "outputs": [
    {
     "name": "stdout",
     "output_type": "stream",
     "text": [
      "Larges change between any two (consequtive) days =  2.559999999999995\n"
     ]
    }
   ],
   "source": [
    "l_close = [ data[key]['Close'] for key in data ]\n",
    "\n",
    "l_close_diff = []\n",
    "for i in range(len(l_close)-1):\n",
    "    # positive or negative change, so take the absolute value\n",
    "    l_close_diff.append(abs(l_close[i+1]-l_close[i]))\n",
    "\n",
    "print(\"Larges change between any two (consequtive) days = \",max(l_close_diff))"
   ]
  },
  {
   "cell_type": "markdown",
   "metadata": {},
   "source": [
    "Task 6:"
   ]
  },
  {
   "cell_type": "code",
   "execution_count": 11,
   "metadata": {},
   "outputs": [
    {
     "name": "stdout",
     "output_type": "stream",
     "text": [
      "Average daily trading volume =  89124.33725490196\n"
     ]
    }
   ],
   "source": [
    "l_trade_vol = [data[key]['Traded Volume'] for key in data]\n",
    "\n",
    "print(\"Average daily trading volume = \",sum(l_trade_vol)/len(l_trade_vol))"
   ]
  },
  {
   "cell_type": "markdown",
   "metadata": {},
   "source": [
    "Task 7:"
   ]
  },
  {
   "cell_type": "code",
   "execution_count": 14,
   "metadata": {},
   "outputs": [
    {
     "name": "stdout",
     "output_type": "stream",
     "text": [
      "Median daily trading volume =  76286.0\n"
     ]
    }
   ],
   "source": [
    "def median(L):\n",
    "    sortedL = sorted(L)\n",
    "    lenL = len(L)\n",
    "    index = (lenL - 1) // 2\n",
    "\n",
    "    if (lenL % 2):\n",
    "        return sortedL[index]\n",
    "    else:\n",
    "        return (sortedL[index] + sortedL[index + 1])/2.0\n",
    "    \n",
    "print(\"Median daily trading volume = \",median(l_trade_vol))\n",
    "#the same result with: \"from statistics import median\", median(l_trade_vol)"
   ]
  },
  {
   "cell_type": "code",
   "execution_count": null,
   "metadata": {},
   "outputs": [],
   "source": []
  }
 ],
 "metadata": {
  "kernelspec": {
   "display_name": "Python 3",
   "language": "python",
   "name": "python3"
  },
  "language_info": {
   "codemirror_mode": {
    "name": "ipython",
    "version": 3
   },
   "file_extension": ".py",
   "mimetype": "text/x-python",
   "name": "python",
   "nbconvert_exporter": "python",
   "pygments_lexer": "ipython3",
   "version": "3.7.9"
  }
 },
 "nbformat": 4,
 "nbformat_minor": 2
}
